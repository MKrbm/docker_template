{
 "cells": [
  {
   "cell_type": "markdown",
   "metadata": {
    "id": "LjDJIiBRGBQK"
   },
   "source": [
    "# パッケージの管理 & 事前準備"
   ]
  },
  {
   "cell_type": "code",
   "execution_count": 1,
   "metadata": {
    "executionInfo": {
     "elapsed": 284,
     "status": "ok",
     "timestamp": 1659596059770,
     "user": {
      "displayName": "keisuke murota",
      "userId": "11993862372326833937"
     },
     "user_tz": -540
    },
    "id": "fQtrgbwdT7wD"
   },
   "outputs": [],
   "source": [
    "import os\n",
    "import sys\n",
    "import re\n",
    "import tarfile\n",
    "import time\n",
    "import math\n",
    "import numpy as np\n",
    "import pandas as pd\n",
    "import matplotlib.pyplot as plt\n",
    "from sklearn.model_selection import train_test_split\n",
    "from typing import Optional"
   ]
  },
  {
   "cell_type": "code",
   "execution_count": 2,
   "metadata": {
    "executionInfo": {
     "elapsed": 2,
     "status": "ok",
     "timestamp": 1659596060340,
     "user": {
      "displayName": "keisuke murota",
      "userId": "11993862372326833937"
     },
     "user_tz": -540
    },
    "id": "HJ88iGr5wgis"
   },
   "outputs": [
    {
     "name": "stderr",
     "output_type": "stream",
     "text": [
      "/home/user/.local/lib/python3.9/site-packages/tqdm/auto.py:22: TqdmWarning: IProgress not found. Please update jupyter and ipywidgets. See https://ipywidgets.readthedocs.io/en/stable/user_install.html\n",
      "  from .autonotebook import tqdm as notebook_tqdm\n"
     ]
    }
   ],
   "source": [
    "import torch\n",
    "from torch.utils.data import TensorDataset\n",
    "from torch.utils.data import DataLoader\n",
    "import torch.nn as nn\n",
    "from torch.nn import Embedding, TransformerDecoderLayer, TransformerDecoder, TransformerEncoderLayer, TransformerEncoder\n",
    "import torch.nn.functional as F\n",
    "import torch.optim as optim\n",
    "from torch.autograd import Variable\n",
    "# from torchtext.data import Field, BucketIterator, TabularDataset\n",
    "from torch.nn.init import xavier_uniform_"
   ]
  },
  {
   "cell_type": "markdown",
   "metadata": {
    "id": "l59Fv2aAi35q"
   },
   "source": [
    "データセットの取り扱い\n",
    "\n",
    "今回は日英対訳コーパスを以下のサイトからダウンロードします。\n",
    "\n",
    "\n",
    "https://nlp.stanford.edu/projects/jesc/\n",
    "\n",
    "credit : https://creativecommons.org/licenses/by-sa/4.0/deed.en\n",
    "\n",
    "次のコードを実行しコーパスをダウンロードしてください。\n",
    "```python\n",
    "!python -m spacy download ja_core_news_sm\n",
    "!gdown https://drive.google.com/uc?id=1dyJHK9yvTQz3NO95-YZoLQ-QMkfqRp1z  # for files\n",
    "```\n",
    "(上記のコードを使わなくても、ホームページから直接ダウンロードが可能です)"
   ]
  },
  {
   "cell_type": "code",
   "execution_count": null,
   "metadata": {
    "id": "TlGp5md7oqmE"
   },
   "outputs": [],
   "source": [
    "!python -m spacy download ja_core_news_sm\n",
    "!gdown https://drive.google.com/uc?id=1dyJHK9yvTQz3NO95-YZoLQ-QMkfqRp1z  # for files"
   ]
  },
  {
   "cell_type": "markdown",
   "metadata": {
    "id": "SCAoW2v5mK0y"
   },
   "source": [
    "GPUが使用できるか確認してください。\n",
    "\n",
    "```python\n",
    "print(\"Is cuda available : \". torch.cuda.is_available())\n",
    "device = \"cuda\" if torch.cuda.is_available() else \"cpu\"\n",
    "```\n",
    "\n",
    "使用できない場合は、colaboratoryの設定からGPUを使用できるように変更してください。"
   ]
  },
  {
   "cell_type": "code",
   "execution_count": 3,
   "metadata": {
    "colab": {
     "base_uri": "https://localhost:8080/"
    },
    "executionInfo": {
     "elapsed": 208,
     "status": "ok",
     "timestamp": 1659596132832,
     "user": {
      "displayName": "keisuke murota",
      "userId": "11993862372326833937"
     },
     "user_tz": -540
    },
    "id": "FgSGUSHyoxAs",
    "outputId": "9718c726-ea9d-4e38-ad32-c17008a78b67"
   },
   "outputs": [
    {
     "name": "stdout",
     "output_type": "stream",
     "text": [
      "Is cuda available :  True\n"
     ]
    }
   ],
   "source": [
    "print(\"Is cuda available : \", torch.cuda.is_available())\n",
    "device = \"cuda\" if torch.cuda.is_available() else \"cpu\""
   ]
  },
  {
   "cell_type": "markdown",
   "metadata": {
    "id": "TGYIrMPqmi4c"
   },
   "source": [
    "以下のコードを実行しダウンロードしたデータを回答し、dataframeを使って表します。\n",
    "```python\n",
    "path = 'raw.tar.gz'\n",
    "savedir = './data/'\n",
    "with tarfile.open(path, 'r:*') as tar:\n",
    "    tar.extractall(savedir)\n",
    "\n",
    "filename = 'raw'\n",
    "with open(os.path.join(savedir + 'raw/', filename), 'r') as f:\n",
    "    raw_data = f.readlines()\n",
    "\n",
    "raw_list = [re.sub('\\n', '', s).split('\\t') for s in raw_data]\n",
    "raw_df = pd.DataFrame(raw_list, columns=['en', 'ja'])\n",
    "```"
   ]
  },
  {
   "cell_type": "code",
   "execution_count": 4,
   "metadata": {
    "executionInfo": {
     "elapsed": 13827,
     "status": "ok",
     "timestamp": 1659596169107,
     "user": {
      "displayName": "keisuke murota",
      "userId": "11993862372326833937"
     },
     "user_tz": -540
    },
    "id": "jgQOCDUzo4d1"
   },
   "outputs": [],
   "source": [
    "path = 'raw.tar.gz'\n",
    "savedir = './data/'\n",
    "with tarfile.open(path, 'r:*') as tar:\n",
    "    tar.extractall(savedir)\n",
    "\n",
    "filename = 'raw'\n",
    "with open(os.path.join(savedir + 'raw/', filename), 'r') as f:\n",
    "    raw_data = f.readlines()\n",
    "\n",
    "raw_list = [re.sub('\\n', '', s).split('\\t') for s in raw_data]\n",
    "raw_df = pd.DataFrame(raw_list, columns=['en', 'ja'])"
   ]
  },
  {
   "cell_type": "markdown",
   "metadata": {
    "id": "yQvBflJJGQ-k"
   },
   "source": [
    "# 本文"
   ]
  },
  {
   "cell_type": "markdown",
   "metadata": {
    "id": "RJHdDzk01oil"
   },
   "source": [
    "## データセットの確認"
   ]
  },
  {
   "cell_type": "markdown",
   "metadata": {
    "id": "uLsMmn3pGbUC"
   },
   "source": [
    "まずはこのデータの中身を確認します。\n",
    "\n",
    "```python\n",
    "raw_df.head()\n",
    "```"
   ]
  },
  {
   "cell_type": "code",
   "execution_count": 5,
   "metadata": {
    "colab": {
     "base_uri": "https://localhost:8080/"
    },
    "executionInfo": {
     "elapsed": 240,
     "status": "ok",
     "timestamp": 1659596378016,
     "user": {
      "displayName": "keisuke murota",
      "userId": "11993862372326833937"
     },
     "user_tz": -540
    },
    "id": "a4qG9abPpvV3",
    "outputId": "9fd5e413-7d4c-40ce-be46-a4426e7fcecc"
   },
   "outputs": [
    {
     "data": {
      "text/plain": [
       "(2801388, 2)"
      ]
     },
     "execution_count": 5,
     "metadata": {},
     "output_type": "execute_result"
    }
   ],
   "source": [
    "raw_df.shape"
   ]
  },
  {
   "cell_type": "markdown",
   "metadata": {
    "id": "FpCJQjzbGe1A"
   },
   "source": [
    "上のコードを実行すると例えば以下の結果が表示されます。\n",
    "```python\n",
    "(\"you are back, aren't you, harold?\", 'あなたは戻ったのね ハロルド?')\n",
    "```\n",
    "表示された英文と日文は同じ意味を持つことが分かります。"
   ]
  },
  {
   "cell_type": "markdown",
   "metadata": {
    "id": "Oqw_3nNHGhEM"
   },
   "source": [
    "次にデータセットから今回学習に使用するための、トレーニング用データセットを生成します。元のデータには日英の文章の組を2,000,000以上持っていますが、量が多すぎるため10,000だけとってくることにします。\n",
    "```python\n",
    "train_df = raw_df.sample(frac=0.01, random_state=2022)\n",
    "train_df = train_df[[\"ja\", \"en\"]]\n",
    "```"
   ]
  },
  {
   "cell_type": "code",
   "execution_count": 6,
   "metadata": {
    "colab": {
     "base_uri": "https://localhost:8080/",
     "height": 206
    },
    "executionInfo": {
     "elapsed": 464,
     "status": "ok",
     "timestamp": 1659596431269,
     "user": {
      "displayName": "keisuke murota",
      "userId": "11993862372326833937"
     },
     "user_tz": -540
    },
    "id": "xolzMVs4pybc",
    "outputId": "453d4b50-b635-449c-c2bc-5c15690aecfb"
   },
   "outputs": [
    {
     "data": {
      "text/html": [
       "<div>\n",
       "<style scoped>\n",
       "    .dataframe tbody tr th:only-of-type {\n",
       "        vertical-align: middle;\n",
       "    }\n",
       "\n",
       "    .dataframe tbody tr th {\n",
       "        vertical-align: top;\n",
       "    }\n",
       "\n",
       "    .dataframe thead th {\n",
       "        text-align: right;\n",
       "    }\n",
       "</style>\n",
       "<table border=\"1\" class=\"dataframe\">\n",
       "  <thead>\n",
       "    <tr style=\"text-align: right;\">\n",
       "      <th></th>\n",
       "      <th>ja</th>\n",
       "      <th>en</th>\n",
       "    </tr>\n",
       "  </thead>\n",
       "  <tbody>\n",
       "    <tr>\n",
       "      <th>1699582</th>\n",
       "      <td>助骨は2本を残し</td>\n",
       "      <td>all but two of my ribs</td>\n",
       "    </tr>\n",
       "    <tr>\n",
       "      <th>971616</th>\n",
       "      <td>シモンズの様子は?</td>\n",
       "      <td>how was simmons?</td>\n",
       "    </tr>\n",
       "    <tr>\n",
       "      <th>1366775</th>\n",
       "      <td>本当の自分を見てもらうしかない</td>\n",
       "      <td>to be seen as we truly are.</td>\n",
       "    </tr>\n",
       "    <tr>\n",
       "      <th>1097842</th>\n",
       "      <td>「お義兄さんとしてではなく」</td>\n",
       "      <td>she told him she was attracted him</td>\n",
       "    </tr>\n",
       "    <tr>\n",
       "      <th>118428</th>\n",
       "      <td>誰の銃撃がラズロにあんな 反応をさせたか分かりますか?</td>\n",
       "      <td>do you have any idea whose bullet was ultimate...</td>\n",
       "    </tr>\n",
       "  </tbody>\n",
       "</table>\n",
       "</div>"
      ],
      "text/plain": [
       "                                  ja  \\\n",
       "1699582                     助骨は2本を残し   \n",
       "971616                     シモンズの様子は?   \n",
       "1366775              本当の自分を見てもらうしかない   \n",
       "1097842               「お義兄さんとしてではなく」   \n",
       "118428   誰の銃撃がラズロにあんな 反応をさせたか分かりますか?   \n",
       "\n",
       "                                                        en  \n",
       "1699582                             all but two of my ribs  \n",
       "971616                                    how was simmons?  \n",
       "1366775                        to be seen as we truly are.  \n",
       "1097842                 she told him she was attracted him  \n",
       "118428   do you have any idea whose bullet was ultimate...  "
      ]
     },
     "execution_count": 6,
     "metadata": {},
     "output_type": "execute_result"
    }
   ],
   "source": [
    "train_df = raw_df.sample(frac=0.01, random_state=2022)\n",
    "train_df = train_df[[\"ja\", \"en\"]]\n",
    "train_df.head()"
   ]
  },
  {
   "cell_type": "markdown",
   "metadata": {
    "id": "y4LH7es31oin"
   },
   "source": [
    "## トークナイザ"
   ]
  },
  {
   "cell_type": "markdown",
   "metadata": {
    "id": "ZxlS4xvVH8S-"
   },
   "source": [
    "次に**toknizer**を定義してみます。\n",
    "\n",
    "自然言語処理ではそのままの文章の代わりに、語彙の列を入力として扱います。文章を語彙の列に分割してくれる関数をトークナイザと呼びます。\n",
    "\n",
    "まずは以下のコードを実行して、日本語・英語　用のtokenizerを定義してください。\n",
    "\n",
    "```python\n",
    "from torchtext.data.utils import get_tokenizer\n",
    "from torchtext.vocab import build_vocab_from_iterator\n",
    "\n",
    "token_transform = {}\n",
    "vocab_transform = {}\n",
    "\n",
    "SRC_LANGUAGE = 'ja'\n",
    "TGT_LANGUAGE = 'en'\n",
    "\n",
    "token_transform[SRC_LANGUAGE] = get_tokenizer('spacy', language='ja_core_news_sm')\n",
    "token_transform[TGT_LANGUAGE] = get_tokenizer('spacy', language='en_core_web_sm')\n",
    "\n",
    "\n",
    "```"
   ]
  },
  {
   "cell_type": "code",
   "execution_count": 7,
   "metadata": {
    "executionInfo": {
     "elapsed": 8287,
     "status": "ok",
     "timestamp": 1659596510287,
     "user": {
      "displayName": "keisuke murota",
      "userId": "11993862372326833937"
     },
     "user_tz": -540
    },
    "id": "nV_K51YC0V1v"
   },
   "outputs": [],
   "source": [
    "from torchtext.data.utils import get_tokenizer\n",
    "from torchtext.vocab import build_vocab_from_iterator\n",
    "\n",
    "# Place-holders\n",
    "token_transform = {}\n",
    "vocab_transform = {}\n",
    "\n",
    "SRC_LANGUAGE = 'ja'\n",
    "TGT_LANGUAGE = 'en'\n",
    "\n",
    "token_transform[SRC_LANGUAGE] = get_tokenizer('spacy', language='ja_core_news_sm')\n",
    "token_transform[TGT_LANGUAGE] = get_tokenizer('spacy', language='en_core_web_sm')\n",
    "\n"
   ]
  },
  {
   "cell_type": "markdown",
   "metadata": {
    "id": "WREg7RMyIqf-"
   },
   "source": [
    "どの様な関数なのでしょうか？試しに以下のプログラムを実行してみましょう。\n",
    "\n",
    "```python\n",
    "print(token_transform['en'](\"This is a pen\"))\n",
    "print(token_transform['en'](\"What's your name?\"))\n",
    "print(token_transform['ja'](\"明日の天気は晴れです\"))\n",
    "print(token_transform['ja'](\"もう時間がないんです\"))\n",
    "```\n"
   ]
  },
  {
   "cell_type": "code",
   "execution_count": 8,
   "metadata": {
    "colab": {
     "base_uri": "https://localhost:8080/"
    },
    "executionInfo": {
     "elapsed": 358,
     "status": "ok",
     "timestamp": 1659599610327,
     "user": {
      "displayName": "keisuke murota",
      "userId": "11993862372326833937"
     },
     "user_tz": -540
    },
    "id": "h1RuTyo-qSEh",
    "outputId": "502adb59-9fad-4f06-9758-8e61cf110ed7"
   },
   "outputs": [
    {
     "name": "stdout",
     "output_type": "stream",
     "text": [
      "['This', 'is', 'a', 'pen']\n",
      "['What', \"'s\", 'your', 'name', '?']\n",
      "['明日', 'の', '天気', 'は', '晴れ', 'です']\n",
      "['もう', '時間', 'が', 'ない', 'ん', 'です']\n"
     ]
    }
   ],
   "source": [
    "print(token_transform['en'](\"This is a pen\"))\n",
    "print(token_transform['en'](\"What's your name?\"))\n",
    "print(token_transform['ja'](\"明日の天気は晴れです\"))\n",
    "print(token_transform['ja'](\"もう時間がないんです\"))"
   ]
  },
  {
   "cell_type": "markdown",
   "metadata": {
    "id": "WgcDImxuYC5m"
   },
   "source": [
    "例えば以下の出力結果を例にとって考えてみましょう。\n",
    "\n",
    "`['This', 'is', 'a', 'pen']`\n",
    "\n",
    "元の文章であるThis is a pen が単語ごとに分割されました。\n",
    "この様にtokenizerは文章を語彙の列に分割してくれる関数のことをさします。日本語の場合も同様で、品詞分解が実行されます。\n",
    "\n",
    "明日の天気は晴れです。 $\\rightarrow$ `['明日', 'の', '天気', 'は', '晴れ', 'です', '。']`\n",
    "\n",
    "\n"
   ]
  },
  {
   "cell_type": "code",
   "execution_count": null,
   "metadata": {
    "executionInfo": {
     "elapsed": 4,
     "status": "ok",
     "timestamp": 1659593809157,
     "user": {
      "displayName": "keisuke murota",
      "userId": "11993862372326833937"
     },
     "user_tz": -540
    },
    "id": "HDuDkHd91oip"
   },
   "outputs": [],
   "source": []
  },
  {
   "cell_type": "markdown",
   "metadata": {
    "id": "S8gMWX1-Zxx0"
   },
   "source": [
    "\n",
    "\n",
    "実際にプログラミングで扱う場合は文字そのものを扱うより数字のほうが扱いやすいため、これらのトークン(語彙)に番号を割り当てます。\n",
    "\n",
    "どんな番号を割り当てても良いですが、トレーニングデータに出てくる語彙を全て列挙し、4番からスタートして順番に番号を振っていきます。\n",
    "\n",
    "0, 1, 2, 3は特殊な文字に割り当てられていて、それぞれunknown, pad, beggining of sentence, end of sentence の略称となります。\n",
    "\n",
    "\n",
    "以下のコードブロックを実行し、語彙にユニークIDを設定してみましょう。\n",
    "\n",
    "```python\n",
    "def yield_tokens(data_iter, language):\n",
    "    for data_sample in data_iter[language]:\n",
    "        yield token_transform[language](data_sample)\n",
    "\n",
    "UNK_IDX, PAD_IDX, BOS_IDX, EOS_IDX = 0, 1, 2, 3\n",
    "special_symbols = ['<unk>', '<pad>', '<bos>', '<eos>']\n",
    "\n",
    "for ln in [SRC_LANGUAGE, TGT_LANGUAGE]:\n",
    "    vocab_transform[ln] = build_vocab_from_iterator(yield_tokens(train_df, ln),\n",
    "                                                    min_freq=1,\n",
    "                                                    specials=special_symbols,\n",
    "                                                    special_first=True)\n",
    "\n",
    "for ln in [SRC_LANGUAGE, TGT_LANGUAGE]:\n",
    "    vocab_transform[ln].set_default_index(UNK_IDX)\n",
    "```"
   ]
  },
  {
   "cell_type": "code",
   "execution_count": 9,
   "metadata": {
    "executionInfo": {
     "elapsed": 13360,
     "status": "ok",
     "timestamp": 1659596858776,
     "user": {
      "displayName": "keisuke murota",
      "userId": "11993862372326833937"
     },
     "user_tz": -540
    },
    "id": "OpwgM_I_rio7"
   },
   "outputs": [],
   "source": [
    "def yield_tokens(data_iter, language):\n",
    "    for data_sample in data_iter[language]:\n",
    "        yield token_transform[language](data_sample)\n",
    "\n",
    "UNK_IDX, PAD_IDX, BOS_IDX, EOS_IDX = 0, 1, 2, 3\n",
    "special_symbols = ['<unk>', '<pad>', '<bos>', '<eos>']\n",
    "\n",
    "for ln in [SRC_LANGUAGE, TGT_LANGUAGE]:\n",
    "    vocab_transform[ln] = build_vocab_from_iterator(yield_tokens(train_df, ln),\n",
    "                                                    min_freq=1,\n",
    "                                                    specials=special_symbols,\n",
    "                                                    special_first=True)\n",
    "\n",
    "for ln in [SRC_LANGUAGE, TGT_LANGUAGE]:\n",
    "    vocab_transform[ln].set_default_index(UNK_IDX)"
   ]
  },
  {
   "cell_type": "markdown",
   "metadata": {
    "id": "YFG4AczVgnI9"
   },
   "source": [
    "以下の二つのコードを実行し、単語ごとにユニークな数字を持っていることを確認してください。\n",
    "\n",
    "```python\n",
    "print(vocab_transform['ja'](['もう', '時間', 'が', 'ない', 'ん', 'です', '。']))\n",
    "print(vocab_transform['ja'](['明日', 'の', '天気', 'は', '晴れ', 'です', '。']))\n",
    "```"
   ]
  },
  {
   "cell_type": "code",
   "execution_count": 10,
   "metadata": {
    "colab": {
     "base_uri": "https://localhost:8080/"
    },
    "executionInfo": {
     "elapsed": 259,
     "status": "ok",
     "timestamp": 1659597642496,
     "user": {
      "displayName": "keisuke murota",
      "userId": "11993862372326833937"
     },
     "user_tz": -540
    },
    "id": "y-Zaz621rkUS",
    "outputId": "5c6d05f6-310a-4bdf-90bb-afb86ddd45df"
   },
   "outputs": [
    {
     "name": "stdout",
     "output_type": "stream",
     "text": [
      "[84, 135, 10, 20, 22, 23, 14]\n",
      "[405, 4, 0, 5, 2635, 23, 14]\n",
      "19371\n"
     ]
    }
   ],
   "source": [
    "print(vocab_transform['ja'](['もう', '時間', 'が', 'ない', 'ん', 'です', '。']))\n",
    "print(vocab_transform['ja'](['明日', 'の', '天気', 'は', '晴れ', 'です', '。']))\n",
    "print(len(vocab_transform['ja']))"
   ]
  },
  {
   "cell_type": "markdown",
   "metadata": {
    "id": "KQJ1qtlX1oiu"
   },
   "source": [
    "### Encoder-decoder transformer\n",
    "今回は日英の翻訳機を作ります。\n",
    "\n",
    "まずは問題設定を明確に定義してみます。数学的には、\n",
    "\n",
    "$$\n",
    "X = [x_0, x_1, .., x_{l_1}] \\\\\n",
    "Z = [z_0, z_1, .., z_{l_2}]\n",
    "$$\n",
    "という二つのトークンの列があったとき、条件付確率分布$P(X | Z)$を求めるということに相当します。\n",
    "\n",
    "$$\n",
    "P(X | Z) = P(x_0 | Z ) P(x_1|x_0, Z) P(x_2|x_1, x_0, Z) ...\n",
    "$$\n",
    "\n",
    "そして、**翻訳機の学習ではこの条件付確率分布 $P_\\theta(X|Z)$を学習していきます。**\n",
    "\n",
    "---\n",
    "実際にtransformerは以下のように定義されます。\n",
    "$$\n",
    "\\text{Transformer}(Z, X) = \n",
    "\\begin{pmatrix}\n",
    "P_\\theta(\\cdot | Z )  \\\\ P_\\theta(\\cdot|x_0, Z)  \\\\ P_\\theta(\\cdot|x_1, x_0, Z) \\\\ \\vdots\n",
    "\\end{pmatrix}\n",
    "$$\n",
    "\n",
    "\n",
    "\n"
   ]
  },
  {
   "cell_type": "code",
   "execution_count": 11,
   "metadata": {
    "colab": {
     "base_uri": "https://localhost:8080/"
    },
    "executionInfo": {
     "elapsed": 3,
     "status": "ok",
     "timestamp": 1659597071910,
     "user": {
      "displayName": "keisuke murota",
      "userId": "11993862372326833937"
     },
     "user_tz": -540
    },
    "id": "fhg52rlP1oiu",
    "outputId": "88ab9f6d-a7c2-491c-9ce5-b168f81f43ec",
    "scrolled": true
   },
   "outputs": [
    {
     "name": "stdout",
     "output_type": "stream",
     "text": [
      "シモンズの様子は?  ->  [4891, 4, 951, 5, 12]\n",
      "how was simmons?  ->  [67, 27, 3446, 9]\n"
     ]
    }
   ],
   "source": [
    "X = vocab_transform[SRC_LANGUAGE](token_transform[SRC_LANGUAGE](train_df[SRC_LANGUAGE].iloc[1]))\n",
    "Z = vocab_transform[TGT_LANGUAGE](token_transform[TGT_LANGUAGE](train_df[TGT_LANGUAGE].iloc[1]))\n",
    "print(train_df[SRC_LANGUAGE].iloc[1], \" -> \", X)\n",
    "print(train_df[TGT_LANGUAGE].iloc[1], \" -> \", Z)"
   ]
  },
  {
   "cell_type": "markdown",
   "metadata": {},
   "source": [
    "--- \n",
    "\n",
    "<br>\n",
    "例えば、$Z$は日本文\"シモンズの様子は?\"をトークン化したもの : \n",
    "\n",
    "$$\n",
    "Z = [4891, 4, 951, 5, 12]\n",
    "$$\n",
    "\n",
    "だとします。そして対応する$x$は\"how was simmons?\"のトークン化である:\n",
    "\n",
    "$$\n",
    "X = [67, 27, 3446, 9]\n",
    "$$\n",
    "\n",
    "となります。これらを用いて、\n",
    "\n",
    "\n",
    "翻訳機の学習後は、$Z = [67, 27, 3446, 9]$ (how was simmons?)という条件の下での条件付確率分布$P(X|[67, 27, 3446, 9])$がX = $[4891, 4, 951, 5, 12]$ (シモンズの様子は?)で大きい値を持つようになります。数学的には、\n",
    "<br>\n",
    "<br>\n",
    "\n",
    "$$\n",
    "[4891, 4, 951, 5, 12] = \\text{argmax}_X \\ P(X|[67, 27, 3446, 9])\n",
    "$$\n",
    "となることが期待されます。\n",
    "\n",
    "逆に言うと、データセット内のすべての日英対コーパス($X_i, Z_i$)について$P(X_i|Z_i)$が大きい値を持つように学習を進めていきます。"
   ]
  },
  {
   "cell_type": "markdown",
   "metadata": {},
   "source": [
    "---\n",
    "\n",
    "このモデルを使用して翻訳する際は、オンラインで推論していきます。厳密には、\n",
    "\n",
    "$$\n",
    "x_1 = \\text{argmax}_X \\ P(x|Z, <BOS>)\\\\\n",
    "x_2 = \\text{argmax}_X \\ P(x|Z, x_1, <BOS>)\\\\\n",
    "x_3 = \\text{argmax}_X \\ P(x|Z, x_2, x_1, <BOS>)\\\\\n",
    "\\vdots\n",
    "$$\n",
    "という作業を`<EOS>`が現れるまで繰り返していきます。\n",
    "\n",
    "\n"
   ]
  },
  {
   "cell_type": "markdown",
   "metadata": {
    "id": "grkXDB6M1oiu"
   },
   "source": [
    "<!-- ![Encoder-Decode transfomer](https://pytorch.org/tutorials/_images/transformer_architecture.jpg) -->\n",
    "<img src=\"https://pytorch.org/tutorials/_images/transformer_architecture.jpg\" alt=\"drawing\" width=\"400\"/>\n",
    "\n",
    "\n",
    "\n",
    "\n",
    "\n",
    "今回の日英翻訳では、**Enoder-Decoder Transformer**ばれる典型的なtransformerモデルを使用します。上の画像はモデルの構造を表した概念図になります。\n",
    "\n",
    "\n",
    "このモデルは名前が指し示すように、encoderとdecoderの二つが融合しています。encoderが翻訳元の言語を学習し、その結果をdecoderへと流すことで、decoderが翻訳先の言語へと変換する、といった効果が期待されたモデルで、別名**Sequence-to-sequence (seq2seq)**と呼ばれています。\n",
    "\n",
    "ニューラルネットを用いた翻訳機は他にも**Recurrent neural network(RNN)**を用いた翻訳機が存在しますが、seq2seq TransformerはattentionやPositional Encodingを用いることで、RNNが抱えていた困難の一部を解決しました。このノートブックではRNNについての説明は省きますが、seq2seq Transformerがどの様な構造をもっているかを簡単に勉強します。\n"
   ]
  },
  {
   "cell_type": "markdown",
   "metadata": {
    "id": "VeljAUda1oiu"
   },
   "source": [
    "Inputsには翻訳元のトークン$Z$、Outputsには翻訳先のトークン$X$が入ります。どちらも入力後にToken Embedding と Positional Encoding\n",
    "が施されます。\n",
    "\n",
    "EncoderとDecoderの構造は異なるためここからは別々に説明をしていきます。"
   ]
  },
  {
   "cell_type": "markdown",
   "metadata": {
    "id": "teURZpOP1oiu"
   },
   "source": [
    "### Encoder\n",
    "翻訳元の言語を学習します。Encoderは、6つの同一なlayerを積み重ねたもので、各layerは2つのsublayerで構成されています。最初のsublayerはMulti-Head self Attentionと呼ばれるlayerとなります。二つ目のsublayerはFeed-Forward Networkであり、まさに皆さんが既に勉強したニューラルネットと同様のものが積まれています。\n",
    "\n",
    "\n",
    "### Decoder\n",
    "Decoderの各layerは3つのsublayerから構成されます。encoderと違い、二つ目のsublayerはひとつ前のsublayerからの出力結果だけでなく、encoderからの出力も受け取ります。またDecoderからのの出力は、確率分布$P(X | Z)$となります。\n",
    "\n",
    "\n",
    "Encoder・Decoderの両方にattentionと呼ばれる機構が現れることから、attentionが重要な役割を果たすことが伺えます。それではtransformerの主軸となるattentionについて勉強してみましょう。"
   ]
  },
  {
   "cell_type": "markdown",
   "metadata": {
    "id": "TDSlUoS71oiu"
   },
   "source": [
    "### Attention\n",
    "attentionとはその名前の通り文章の特定の箇所に注意を向けるように学習していく方法です。\n",
    "attentionはinputとして$x$と$z$を受け取ります。また$x = z$の場合を特別にself attentionと呼びます。例えばxとして、翻訳元である日本語を、zとしては、翻訳先である英語のトークン列が対象となります。\n",
    "\n",
    "\n"
   ]
  },
  {
   "cell_type": "markdown",
   "metadata": {
    "id": "LoR-pXbNWKxk"
   },
   "source": [
    "#### self attention\n",
    "- $x = z$\n",
    "- Encoder・Decoder両方に埋め込まれているself attentionは自分自身に着目し、どの単語に注目するべきかを学習します。\n",
    "\n",
    "例えば以下の画像のように\n",
    "\n",
    "$x = z = $ [ 今日, の, 夜ご飯, は, カレー, です, か, ？]\n",
    "\n",
    "\n",
    "であるとします。x における\"カレー\"という単語に着目した場合、z の文章中のどの単語に注目すべきかを学習します。"
   ]
  },
  {
   "cell_type": "markdown",
   "metadata": {
    "id": "iQHNeiN5SZIV"
   },
   "source": [
    "<img src=\"https://drive.google.com/uc?id=1_1-OvcrU23hfF3jFJrJUtjrIhzlKK7ZN\" alt=\"drawing\" width=\"800\"/>"
   ]
  },
  {
   "cell_type": "markdown",
   "metadata": {
    "id": "ZY9EURoGTYmp"
   },
   "source": [
    "#### attention\n",
    "- $x\\neq z$の場合であり、翻訳先の文章に対し、翻訳元文章のどこに注目すればいいかを学習します。\n",
    "- Decoderはself attentionではない通常のattentionを含みます。\n",
    "\n",
    "\n",
    "例えば以下の画像のように \n",
    "\n",
    "$𝑥 = $ [ Is, it, curry, for, dinner, today, ？]\n",
    "\n",
    "$z = $ [ 今日, の, 夜ご飯, は, カレー, です, か, ？]  \n",
    "\n",
    "であるとします。この場合、英単語の\"curry\"に着目した場合、翻訳元である日本文の何処に着目するべきかを学習します。"
   ]
  },
  {
   "cell_type": "markdown",
   "metadata": {
    "id": "nBzp0LnIVXjX"
   },
   "source": [
    "<img src=\"https://drive.google.com/uc?id=1hUhclWHIFxfNWq0NicCDDfRFF-pOvpMI\" alt=\"drawing\" width=\"800\"/>"
   ]
  },
  {
   "cell_type": "markdown",
   "metadata": {},
   "source": [
    "## transformerの実装\n",
    "\n",
    "以下で今回使用するtransformerモデルを実装します。必要となる関数(クラス)を一つずつ定義していきましょう。"
   ]
  },
  {
   "cell_type": "markdown",
   "metadata": {
    "id": "QaHAAEDB1oir"
   },
   "source": [
    "#### Token Embedding\n",
    "\n",
    "Encoder・Decoder両方に使用される関数で、語彙に付与されているID(数字)を高次元のベクトルに埋め込む為の関数です。このベクトルは学習を進めることで単語の意味を含むようになり、似た単語はお互い似たベクトルとして表されるようになります。\n",
    "\n",
    "```python\n",
    "from torch import Tensor\n",
    "import torch\n",
    "import torch.nn as nn\n",
    "from torch.nn import Transformer\n",
    "import math\n",
    "class TokenEmbedding(nn.Module):\n",
    "    def __init__(self, vocab_size: int, emb_size):\n",
    "        super(TokenEmbedding, self).__init__()\n",
    "        self.embedding = nn.Embedding(vocab_size, emb_size)\n",
    "        self.emb_size = emb_size\n",
    "\n",
    "    def forward(self, tokens: Tensor):\n",
    "        return self.embedding(tokens.long()) * math.sqrt(self.emb_size)\n",
    "```"
   ]
  },
  {
   "cell_type": "code",
   "execution_count": 12,
   "metadata": {},
   "outputs": [],
   "source": [
    "from torch import Tensor\n",
    "import torch\n",
    "import torch.nn as nn\n",
    "from torch.nn import Transformer\n",
    "import math\n",
    "class TokenEmbedding(nn.Module):\n",
    "    def __init__(self, vocab_size: int, emb_size):\n",
    "        super(TokenEmbedding, self).__init__()\n",
    "        self.embedding = nn.Embedding(vocab_size, emb_size)\n",
    "        self.emb_size = emb_size\n",
    "\n",
    "    def forward(self, tokens: Tensor):\n",
    "        return self.embedding(tokens.long()) * math.sqrt(self.emb_size)"
   ]
  },
  {
   "cell_type": "markdown",
   "metadata": {
    "id": "gMm6kZzJ1ois"
   },
   "source": [
    "実際にこの関数(クラス)を用いて語彙IDをベクトルに変換してみます。\n",
    "\n",
    "\n",
    "```python\n",
    "ja_tok_emb = TokenEmbedding(len(vocab_transform['ja']), 4)\n",
    "\n",
    "words = [\"今晩\", \"今夜\"]\n",
    "token = vocab_transform['ja'](words)\n",
    "vec = ja_tok_emb(torch.tensor(token)).data\n",
    "for i, t in enumerate(token):\n",
    "    print(f\"{words[i]} -> {t: <5} : {vec[i]}\")\n",
    "    \n",
    "```\n",
    "この関数の出力結果は3個の要素を持つベクトルになります。この3という数字は適当に選んだものなので、自由に変更してください。\n",
    "\n"
   ]
  },
  {
   "cell_type": "code",
   "execution_count": 18,
   "metadata": {
    "id": "KojPmOmr42G0"
   },
   "outputs": [
    {
     "name": "stdout",
     "output_type": "stream",
     "text": [
      "今晩 -> 14071 : tensor([ 5.6130, -2.9658, -0.2403,  0.4386])\n",
      "今夜 -> 614   : tensor([ 1.7430, -2.0458, -1.4725,  1.8837])\n",
      "今朝 -> 1359  : tensor([ 0.2393,  0.7478,  2.0752, -3.1270])\n",
      "沢山 -> 1311  : tensor([ 2.6599, -0.5846,  0.3538, -1.1518])\n",
      "\n",
      "変換後のトークン列\n",
      "tensor([[ 5.6130, -2.9658, -0.2403,  0.4386],\n",
      "        [ 1.7430, -2.0458, -1.4725,  1.8837],\n",
      "        [ 0.2393,  0.7478,  2.0752, -3.1270],\n",
      "        [ 2.6599, -0.5846,  0.3538, -1.1518]])\n"
     ]
    }
   ],
   "source": [
    "ja_tok_emb = TokenEmbedding(len(vocab_transform['ja']), 4)\n",
    "\n",
    "words = [\"今晩\", \"今夜\", \"今朝\", \"沢山\"]\n",
    "token = vocab_transform['ja'](words)\n",
    "vec = ja_tok_emb(torch.tensor(token)).data\n",
    "for i, t in enumerate(token):\n",
    "    print(f\"{words[i]} -> {t: <5} : {vec[i]}\")\n",
    "    \n",
    "print(\"\\n変換後のトークン列\")    \n",
    "print(vec)"
   ]
  },
  {
   "cell_type": "markdown",
   "metadata": {
    "id": "GpWppj8z1ois"
   },
   "source": [
    "今晩と今夜はほとんど同じような意味を持っているので、適切な学習後にはほとんど同じベクトルに落ち着くことが期待されます。"
   ]
  },
  {
   "cell_type": "markdown",
   "metadata": {
    "id": "h-7Q1McS1ois"
   },
   "source": [
    "#### Positional Encoding\n",
    "ベクトルに埋め込んだtokenの列に対して並列的に学習することを考慮すると、上の処理だけでは単語同士の位置関係を含めることができません。例えば　`明日の天気は晴れです`　と\n",
    "`天気の明日は晴れです`\n",
    "を区別できないことになります。従って、トークンごとの前後関係情報を先ほどのベクトルに足し上げてみます。\n",
    "\n",
    "\n",
    "そのための関数としてPositional Encoding(位置埋め込み)関数を定義します。この**位置**は単語の文章中における位置を表しています。\n",
    "\n",
    "\n",
    "```python\n",
    "class PositionalEncoding(nn.Module):\n",
    "    def __init__(self,\n",
    "                 emb_size: int,\n",
    "                 dropout: float,\n",
    "                 maxlen: int = 5000):\n",
    "        super(PositionalEncoding, self).__init__()\n",
    "        den = torch.exp(- torch.arange(0, emb_size, 2)* math.log(10000) / emb_size)\n",
    "        pos = torch.arange(0, maxlen).reshape(maxlen, 1)\n",
    "        pos_embedding = torch.zeros((maxlen, emb_size))\n",
    "        pos_embedding[:, 0::2] = torch.sin(pos * den)\n",
    "        pos_embedding[:, 1::2] = torch.cos(pos * den)\n",
    "        pos_embedding = pos_embedding.unsqueeze(-2)\n",
    "\n",
    "        self.dropout = nn.Dropout(dropout)\n",
    "        self.register_buffer('pos_embedding', pos_embedding)\n",
    "\n",
    "    def forward(self, token_embedding: Tensor):\n",
    "        return self.dropout(token_embedding + self.pos_embedding[:token_embedding.size(0), :])\n",
    "```"
   ]
  },
  {
   "cell_type": "code",
   "execution_count": 19,
   "metadata": {
    "executionInfo": {
     "elapsed": 253,
     "status": "ok",
     "timestamp": 1659600413103,
     "user": {
      "displayName": "keisuke murota",
      "userId": "11993862372326833937"
     },
     "user_tz": -540
    },
    "id": "70QtLWci1oit"
   },
   "outputs": [],
   "source": [
    "class PositionalEncoding(nn.Module):\n",
    "    def __init__(self,\n",
    "                 emb_size: int,\n",
    "                 dropout: float,\n",
    "                 maxlen: int = 5000):\n",
    "        super(PositionalEncoding, self).__init__()\n",
    "        den = torch.exp(- torch.arange(0, emb_size, 2)* math.log(10000) / emb_size)\n",
    "        pos = torch.arange(0, maxlen).reshape(maxlen, 1)\n",
    "        pos_embedding = torch.zeros((maxlen, emb_size))\n",
    "        pos_embedding[:, 0::2] = torch.sin(pos * den)\n",
    "        pos_embedding[:, 1::2] = torch.cos(pos * den)\n",
    "        pos_embedding = pos_embedding.unsqueeze(-2)\n",
    "\n",
    "        self.dropout = nn.Dropout(dropout)\n",
    "        self.register_buffer('pos_embedding', pos_embedding)\n",
    "\n",
    "    def forward(self, token_embedding: Tensor):\n",
    "        return self.dropout(token_embedding + self.pos_embedding[:token_embedding.size(0), :])"
   ]
  },
  {
   "cell_type": "markdown",
   "metadata": {
    "id": "veoX52KM5jnQ"
   },
   "source": [
    "この関数はどのように位置をベクトルを用いて表しているのでしょうか？\n",
    "\n",
    "試しに0文字目がどの様なベクトルとして表されているか確認してみます。\n",
    "```python\n",
    "pos_emb = PositionalEncoding(100, 0, 4)\n",
    "pos_vec = pos_emb.pos_embedding.squeeze(-2)\n",
    "print(pos_vec[0])\n",
    "```\n"
   ]
  },
  {
   "cell_type": "code",
   "execution_count": null,
   "metadata": {
    "colab": {
     "base_uri": "https://localhost:8080/"
    },
    "executionInfo": {
     "elapsed": 3,
     "status": "ok",
     "timestamp": 1659600442618,
     "user": {
      "displayName": "keisuke murota",
      "userId": "11993862372326833937"
     },
     "user_tz": -540
    },
    "id": "U9LQ9VS85JeA",
    "outputId": "1ca9bde1-e8e5-4a21-a2ef-4da7df67c6d8"
   },
   "outputs": [],
   "source": []
  },
  {
   "cell_type": "markdown",
   "metadata": {
    "id": "cDgTOk7E1oit"
   },
   "source": [
    "\n",
    "\n",
    "次に視覚的に理解するために、位置依存性を可視化してみます。\n",
    "\n",
    "\n",
    "```python\n",
    "import matplotlib.pyplot as plt\n",
    "pos_enc = PositionalEncoding(100, 0, 1000)\n",
    "pos_vec = pos_enc.pos_embedding.squeeze(-2)\n",
    "\n",
    "fig, ax = plt.subplots(figsize=(12,8))\n",
    "pcm = ax.pcolormesh(pos_vec, cmap='RdBu_r')\n",
    "fig.colorbar(pcm, ax=ax)\n",
    "ax.set_xlabel(\"i\")\n",
    "ax.set_ylabel(\"word pos\")\n",
    "plt.show()\n",
    "```"
   ]
  },
  {
   "cell_type": "code",
   "execution_count": 20,
   "metadata": {
    "colab": {
     "base_uri": "https://localhost:8080/",
     "height": 338
    },
    "executionInfo": {
     "elapsed": 1134,
     "status": "ok",
     "timestamp": 1659600534179,
     "user": {
      "displayName": "keisuke murota",
      "userId": "11993862372326833937"
     },
     "user_tz": -540
    },
    "id": "73PoyqXa1oit",
    "outputId": "a4859b6c-a033-4466-9d59-842a5c5bea96"
   },
   "outputs": [
    {
     "data": {
      "image/png": "[encoded data removed]",
      "text/plain": [
       "<Figure size 576x360 with 2 Axes>"
      ]
     },
     "metadata": {
      "needs_background": "light"
     },
     "output_type": "display_data"
    }
   ],
   "source": [
    "import matplotlib.pyplot as plt\n",
    "pos_enc = PositionalEncoding(100, 0, 1000)\n",
    "pos_vec = pos_enc.pos_embedding.squeeze(-2)\n",
    "\n",
    "fig, ax = plt.subplots(figsize=(8,5))\n",
    "pcm = ax.pcolormesh(pos_vec, cmap='RdBu_r')\n",
    "fig.colorbar(pcm, ax=ax)\n",
    "ax.set_xlabel(\"i\")\n",
    "ax.set_ylabel(\"word pos\")\n",
    "plt.show()"
   ]
  },
  {
   "cell_type": "markdown",
   "metadata": {
    "id": "5QFp6ZuR1oit"
   },
   "source": [
    "以下のコードを実行し、日本文\"友達の友達もまた友達です。\"がどの様なステップでベクトルへと変形されていくかを確認してください。\n",
    "```python\n",
    "ja_tok_emb = TokenEmbedding(len(vocab_transform['ja']), 4)\n",
    "pos_emb = PositionalEncoding(4, 0, 1000)\n",
    "\n",
    "x = vocab_transform['ja'](token_transform['ja'](\"友達の友達もまた友達です。\"))\n",
    "\n",
    "\n",
    "print(x)\n",
    "print(\"\\n\",\"-\"*50,\"\\n\")\n",
    "x1 = ja_tok_emb(torch.tensor(x))\n",
    "print(x1)\n",
    "print(\"\\n\",\"-\"*50,\"\\n\")\n",
    "print(pos_emb(x1.unsqueeze(-2)).squeeze(-2))\n",
    "```"
   ]
  },
  {
   "cell_type": "code",
   "execution_count": 21,
   "metadata": {
    "colab": {
     "base_uri": "https://localhost:8080/"
    },
    "executionInfo": {
     "elapsed": 217,
     "status": "ok",
     "timestamp": 1659600683637,
     "user": {
      "displayName": "keisuke murota",
      "userId": "11993862372326833937"
     },
     "user_tz": -540
    },
    "id": "lP_FS5t81oit",
    "outputId": "94cc92fe-b436-4355-f8c0-05e05cf9d0aa"
   },
   "outputs": [
    {
     "name": "stdout",
     "output_type": "stream",
     "text": [
      "[339, 4, 339, 19, 159, 339, 23, 14]\n",
      "\n",
      " -------------------------------------------------- \n",
      "\n",
      "After token embedding\n",
      "tensor([[-0.3497, -0.9877,  3.2589, -1.2662],\n",
      "        [-1.5297,  1.6668, -0.1860,  1.5269],\n",
      "        [-0.3497, -0.9877,  3.2589, -1.2662],\n",
      "        [-3.6329, -2.0209, -1.0240, -2.4657],\n",
      "        [-2.9524,  0.2467,  4.2977, -0.8969],\n",
      "        [-0.3497, -0.9877,  3.2589, -1.2662],\n",
      "        [-2.5707,  2.0331,  4.5636,  1.9770],\n",
      "        [ 0.3891, -0.1219, -1.0417,  0.0395]], grad_fn=<MulBackward0>)\n",
      "\n",
      " -------------------------------------------------- \n",
      "\n",
      "After positional encoding\n",
      "tensor([[-0.3497,  0.0123,  3.2589, -0.2662],\n",
      "        [-0.6883,  2.2071, -0.1760,  2.5269],\n",
      "        [ 0.5596, -1.4038,  3.2789, -0.2664],\n",
      "        [-3.4918, -3.0109, -0.9940, -1.4662],\n",
      "        [-3.7092, -0.4069,  4.3377,  0.1023],\n",
      "        [-1.3086, -0.7040,  3.3089, -0.2674],\n",
      "        [-2.8501,  2.9933,  4.6236,  2.9752],\n",
      "        [ 1.0461,  0.6320, -0.9717,  1.0370]], grad_fn=<SqueezeBackward1>)\n"
     ]
    }
   ],
   "source": [
    "x = vocab_transform['ja'](token_transform['ja'](\"友達の友達もまた友達です。\"))\n",
    "pos_emb = PositionalEncoding(4, 0, 1000)\n",
    "ja_tok_emb = TokenEmbedding(len(vocab_transform['ja']), 4)\n",
    "print(x)\n",
    "print(\"\\n\",\"-\"*50,\"\\n\")\n",
    "print(\"After token embedding\")\n",
    "x1 = ja_tok_emb(torch.tensor(x))\n",
    "print(x1)\n",
    "print(\"\\n\",\"-\"*50,\"\\n\")\n",
    "print(\"After positional encoding\")\n",
    "print(pos_emb(x1.unsqueeze(-2)).squeeze(-2))"
   ]
  },
  {
   "cell_type": "markdown",
   "metadata": {
    "id": "LvM5Z2-O1oit"
   },
   "source": [
    "位置に応じて異なるベクトルが対応していることが分かります。\n",
    "\n",
    "ここで得られたベクトルを先ほどtoken embeddingから得たベクトルに足すことで、単語＋文章中の位置関係をベクトルに埋め込むことが出来るようになりました。"
   ]
  },
  {
   "cell_type": "code",
   "execution_count": null,
   "metadata": {},
   "outputs": [],
   "source": []
  },
  {
   "cell_type": "markdown",
   "metadata": {
    "id": "NUuyNPlHeoZY"
   },
   "source": [
    "#### Mask\n",
    "\n",
    "<img src=\"https://drive.google.com/uc?id=1SfVndTR5_ybbMuYTNlrra6a7Wj6DTZa2\" alt=\"drawing\" width=\"130\"/>\n"
   ]
  },
  {
   "cell_type": "markdown",
   "metadata": {},
   "source": [
    "Decoderおおけるself attentionには\"Masked Attention\"という特殊な名前が付いていることに気が付きます。maskとは本来何かを覆い隠したりする意味です。これは学習段階において、翻訳先の文章である$X = [x_0, x_1, .., x_{l}]$をOutputから入力し、次のトークン$x_l$を予測する際に、これより前のトークン情報のみを予測に使用することを保証するためのプロセスです。\n",
    "\n",
    "以下のコードにしたがって、mask関数を作成してください。\n",
    "```python\n",
    "def generate_square_subsequent_mask(sz):\n",
    "    mask = (torch.triu(torch.ones((sz, sz), device=DEVICE)) == 1).transpose(0, 1)\n",
    "    mask = mask.float().masked_fill(mask == 0, float('-inf')).masked_fill(mask == 1, float(0.0))\n",
    "    return mask\n",
    "\n",
    "\n",
    "def create_mask(src, tgt):\n",
    "    src_seq_len = src.shape[0]\n",
    "    tgt_seq_len = tgt.shape[0]\n",
    "\n",
    "    tgt_mask = generate_square_subsequent_mask(tgt_seq_len)\n",
    "    src_mask = torch.zeros((src_seq_len, src_seq_len),device=DEVICE).type(torch.bool)\n",
    "\n",
    "    src_padding_mask = (src == PAD_IDX).transpose(0, 1)\n",
    "    tgt_padding_mask = (tgt == PAD_IDX).transpose(0, 1)\n",
    "    return src_mask, tgt_mask, src_padding_mask, tgt_padding_mask\n",
    "```"
   ]
  },
  {
   "cell_type": "markdown",
   "metadata": {
    "id": "bZwoAGhIWNli"
   },
   "source": [
    "それでは上で定義したパーツを用いてseq2seq transformerを実装してみます。実装にはpytorchのtorch.nn.Transformerを用います。\n",
    "\n",
    "torch.nn.Transformerが受け取るパラメターは以下の通りです。\n",
    "\n",
    "> \n",
    "> d_model : トークンを埋め込むベクトルの次元 = 512 \n",
    "> \n",
    "> num_encoder_layers : エンコーダの同一レイヤーの数 = 6\n",
    "> \n",
    "> num_decoder_layers : デコーダの同一レイヤーの数 = 3\n",
    "> \n",
    "> dim_feedforward : FFNのモデルの次元\n",
    "> \n",
    "> nhead : attentionの並列数\n",
    "> - 今回は触れないため気にしなくて大丈夫です。\n",
    "> \n",
    "> dropout : 重みのdropout rate\n",
    "> - これも今回は説明していないため、気にしなくて大丈夫です。\n",
    "\n",
    "以下のコードを実行してください。\n",
    "```python\n",
    "from torch.nn import Transformer\n",
    "import torch\n",
    "import torch.nn as nn\n",
    "from torch import Tensor\n",
    "class Seq2SeqTransformer(nn.Module):\n",
    "    def __init__(self,\n",
    "                 num_encoder_layers: int,\n",
    "                 num_decoder_layers: int,\n",
    "                 emb_size: int,\n",
    "                 nhead: int,\n",
    "                 src_vocab_size: int,\n",
    "                 tgt_vocab_size: int,\n",
    "                 dim_feedforward: int = 512,\n",
    "                 dropout: float = 0.1):\n",
    "        super(Seq2SeqTransformer, self).__init__()\n",
    "        self.transformer = Transformer(d_model=emb_size,\n",
    "                                       nhead=nhead,\n",
    "                                       num_encoder_layers=num_encoder_layers,\n",
    "                                       num_decoder_layers=num_decoder_layers,\n",
    "                                       dim_feedforward=dim_feedforward,\n",
    "                                       dropout=dropout)\n",
    "        self.generator = nn.Linear(emb_size, tgt_vocab_size)\n",
    "        self.src_tok_emb = TokenEmbedding(src_vocab_size, emb_size)\n",
    "        self.tgt_tok_emb = TokenEmbedding(tgt_vocab_size, emb_size)\n",
    "        self.positional_encoding = PositionalEncoding(\n",
    "            emb_size, dropout=dropout)\n",
    "\n",
    "    def forward(self,\n",
    "                src: Tensor,\n",
    "                trg: Tensor,\n",
    "                src_mask: Tensor,\n",
    "                tgt_mask: Tensor,\n",
    "                src_padding_mask: Tensor,\n",
    "                tgt_padding_mask: Tensor,\n",
    "                memory_key_padding_mask: Tensor):\n",
    "        src_emb = self.positional_encoding(self.src_tok_emb(src))\n",
    "        tgt_emb = self.positional_encoding(self.tgt_tok_emb(trg))\n",
    "        outs = self.transformer(src_emb, tgt_emb, src_mask, tgt_mask, None,\n",
    "                                src_padding_mask, tgt_padding_mask, memory_key_padding_mask)\n",
    "        return self.generator(outs)\n",
    "\n",
    "    def encode(self, src: Tensor, src_mask: Tensor):\n",
    "        return self.transformer.encoder(self.positional_encoding(\n",
    "                            self.src_tok_emb(src)), src_mask)\n",
    "\n",
    "    def decode(self, tgt: Tensor, memory: Tensor, tgt_mask: Tensor):\n",
    "        return self.transformer.decoder(self.positional_encoding(\n",
    "                          self.tgt_tok_emb(tgt)), memory,\n",
    "                          tgt_mask)\n",
    "```"
   ]
  },
  {
   "cell_type": "code",
   "execution_count": 22,
   "metadata": {
    "id": "LwMaWnVV1Vct"
   },
   "outputs": [],
   "source": [
    "from torch.nn import Transformer\n",
    "import torch\n",
    "import torch.nn as nn\n",
    "from torch import Tensor\n",
    "class Seq2SeqTransformer(nn.Module):\n",
    "    def __init__(self,\n",
    "                 num_encoder_layers: int,\n",
    "                 num_decoder_layers: int,\n",
    "                 emb_size: int,\n",
    "                 nhead: int,\n",
    "                 src_vocab_size: int,\n",
    "                 tgt_vocab_size: int,\n",
    "                 dim_feedforward: int = 512,\n",
    "                 dropout: float = 0.1):\n",
    "        super(Seq2SeqTransformer, self).__init__()\n",
    "        self.transformer = Transformer(d_model=emb_size,\n",
    "                                       nhead=nhead,\n",
    "                                       num_encoder_layers=num_encoder_layers,\n",
    "                                       num_decoder_layers=num_decoder_layers,\n",
    "                                       dim_feedforward=dim_feedforward,\n",
    "                                       dropout=dropout)\n",
    "        self.generator = nn.Linear(emb_size, tgt_vocab_size)\n",
    "        self.src_tok_emb = TokenEmbedding(src_vocab_size, emb_size)\n",
    "        self.tgt_tok_emb = TokenEmbedding(tgt_vocab_size, emb_size)\n",
    "        self.positional_encoding = PositionalEncoding(\n",
    "            emb_size, dropout=dropout)\n",
    "\n",
    "    def forward(self,\n",
    "                src: Tensor,\n",
    "                trg: Tensor,\n",
    "                src_mask: Tensor,\n",
    "                tgt_mask: Tensor,\n",
    "                src_padding_mask: Tensor,\n",
    "                tgt_padding_mask: Tensor,\n",
    "                memory_key_padding_mask: Tensor):\n",
    "        src_emb = self.positional_encoding(self.src_tok_emb(src))\n",
    "        tgt_emb = self.positional_encoding(self.tgt_tok_emb(trg))\n",
    "        outs = self.transformer(src_emb, tgt_emb, src_mask, tgt_mask, None,\n",
    "                                src_padding_mask, tgt_padding_mask, memory_key_padding_mask)\n",
    "        return self.generator(outs)\n",
    "\n",
    "    def encode(self, src: Tensor, src_mask: Tensor):\n",
    "        return self.transformer.encoder(self.positional_encoding(\n",
    "                            self.src_tok_emb(src)), src_mask)\n",
    "\n",
    "    def decode(self, tgt: Tensor, memory: Tensor, tgt_mask: Tensor):\n",
    "        return self.transformer.decoder(self.positional_encoding(\n",
    "                          self.tgt_tok_emb(tgt)), memory,\n",
    "                          tgt_mask)"
   ]
  },
  {
   "cell_type": "code",
   "execution_count": null,
   "metadata": {
    "id": "lkMRZczGen7J"
   },
   "outputs": [],
   "source": []
  },
  {
   "cell_type": "code",
   "execution_count": null,
   "metadata": {
    "id": "3PmBr-771qoy"
   },
   "outputs": [],
   "source": [
    "torch.manual_seed(0)\n",
    "\n",
    "SRC_VOCAB_SIZE = len(vocab_transform[SRC_LANGUAGE])\n",
    "TGT_VOCAB_SIZE = len(vocab_transform[TGT_LANGUAGE])\n",
    "EMB_SIZE = 512\n",
    "NHEAD = 8\n",
    "FFN_HID_DIM = 512\n",
    "BATCH_SIZE = int(128/4)\n",
    "NUM_ENCODER_LAYERS = 3\n",
    "NUM_DECODER_LAYERS = 3\n",
    "\n",
    "transformer = Seq2SeqTransformer(NUM_ENCODER_LAYERS, NUM_DECODER_LAYERS, EMB_SIZE,\n",
    "                                 NHEAD, SRC_VOCAB_SIZE, TGT_VOCAB_SIZE, FFN_HID_DIM)\n",
    "\n",
    "for p in transformer.parameters():\n",
    "    if p.dim() > 1:\n",
    "        nn.init.xavier_uniform_(p)\n",
    "transformer = transformer.to(torch.float)\n",
    "transformer = transformer.to(DEVICE)\n",
    "\n",
    "loss_fn = torch.nn.CrossEntropyLoss(ignore_index=PAD_IDX)\n",
    "\n",
    "optimizer = torch.optim.Adam(transformer.parameters(), lr=0.0001, betas=(0.9, 0.98), eps=1e-9)"
   ]
  },
  {
   "cell_type": "code",
   "execution_count": null,
   "metadata": {
    "id": "RJEg_xuE1sZk"
   },
   "outputs": [],
   "source": [
    "from torch.nn.utils.rnn import pad_sequence\n",
    "\n",
    "# helper function to club together sequential operations\n",
    "def sequential_transforms(*transforms):\n",
    "    def func(txt_input):\n",
    "        for transform in transforms:\n",
    "            txt_input = transform(txt_input)\n",
    "        return txt_input\n",
    "    return func\n",
    "\n",
    "# function to add BOS/EOS and create tensor for input sequence indices\n",
    "def tensor_transform(token_ids):\n",
    "    return torch.cat((torch.tensor([BOS_IDX]),\n",
    "                      torch.tensor(token_ids),\n",
    "                      torch.tensor([EOS_IDX])))\n",
    "\n",
    "# src and tgt language text transforms to convert raw strings into tensors indices\n",
    "text_transform = {}\n",
    "for ln in [SRC_LANGUAGE, TGT_LANGUAGE]:\n",
    "    text_transform[ln] = sequential_transforms(token_transform[ln], #Tokenization\n",
    "                                               vocab_transform[ln], #Numericalization\n",
    "                                               tensor_transform) # Add BOS/EOS and create tensor"
   ]
  },
  {
   "cell_type": "code",
   "execution_count": null,
   "metadata": {
    "id": "xf6fFzhH1uLn"
   },
   "outputs": [],
   "source": [
    "def collate_fn(batch):\n",
    "    src_batch, tgt_batch = [], []\n",
    "    for src_sample, tgt_sample in batch:\n",
    "        src_batch.append(text_transform[SRC_LANGUAGE](src_sample.rstrip(\"\\n\")))\n",
    "        tgt_batch.append(text_transform[TGT_LANGUAGE](tgt_sample.rstrip(\"\\n\")))\n",
    "    \n",
    "    src_batch = pad_sequence(src_batch, padding_value=PAD_IDX)\n",
    "    tgt_batch = pad_sequence(tgt_batch, padding_value=PAD_IDX)\n",
    "    return src_batch, tgt_batch"
   ]
  },
  {
   "cell_type": "code",
   "execution_count": null,
   "metadata": {
    "id": "Op-v9r-41w5v"
   },
   "outputs": [],
   "source": [
    "from torch.utils.data import DataLoader\n",
    "\n",
    "def train_epoch(model, optimizer):\n",
    "    model.train()\n",
    "    losses = 0\n",
    "    data_list = list(train_df.itertuples(index=False, name=None))\n",
    "    train_dataloader = DataLoader(data_list, batch_size=BATCH_SIZE, collate_fn=collate_fn)\n",
    "\n",
    "    for src, tgt in train_dataloader:\n",
    "        src = src.to(DEVICE)\n",
    "        tgt = tgt.to(DEVICE)\n",
    "#         print(src.shape)\n",
    "\n",
    "        tgt_input = tgt[:-1, :]\n",
    "\n",
    "        src_mask, tgt_mask, src_padding_mask, tgt_padding_mask = create_mask(src, tgt_input)\n",
    "\n",
    "        logits = model(src, tgt_input, src_mask, tgt_mask,src_padding_mask, tgt_padding_mask, src_padding_mask)\n",
    "\n",
    "        optimizer.zero_grad()\n",
    "\n",
    "        tgt_out = tgt[1:, :]\n",
    "        loss = loss_fn(logits.reshape(-1, logits.shape[-1]), tgt_out.reshape(-1))\n",
    "        loss.backward()\n",
    "        \n",
    "        optimizer.step()\n",
    "        losses += loss.item()\n",
    "        \n",
    "        del loss, src, tgt, tgt_input, tgt_out, src_mask, tgt_mask, src_padding_mask, tgt_padding_mask, logits\n",
    "        torch.cuda.empty_cache()\n",
    "    return losses / len(train_dataloader)\n"
   ]
  },
  {
   "cell_type": "code",
   "execution_count": null,
   "metadata": {
    "colab": {
     "base_uri": "https://localhost:8080/"
    },
    "id": "NyZ_fIHG1xLr",
    "outputId": "0b7ef1d8-a8bc-4192-8074-9ad36f212023"
   },
   "outputs": [
    {
     "name": "stdout",
     "output_type": "stream",
     "text": [
      "Epoch: 1, Train loss: 5.427,  Epoch time = 64.588s\n",
      "Epoch: 2, Train loss: 4.682,  Epoch time = 62.719s\n",
      "Epoch: 3, Train loss: 4.425,  Epoch time = 62.681s\n",
      "Epoch: 4, Train loss: 4.228,  Epoch time = 62.914s\n",
      "Epoch: 5, Train loss: 4.058,  Epoch time = 63.024s\n",
      "Epoch: 6, Train loss: 3.909,  Epoch time = 62.374s\n",
      "Epoch: 7, Train loss: 3.770,  Epoch time = 62.849s\n",
      "Epoch: 8, Train loss: 3.637,  Epoch time = 62.810s\n",
      "Epoch: 9, Train loss: 3.507,  Epoch time = 62.631s\n",
      "Epoch: 10, Train loss: 3.390,  Epoch time = 62.748s\n",
      "Epoch: 11, Train loss: 3.271,  Epoch time = 63.670s\n",
      "Epoch: 12, Train loss: 3.154,  Epoch time = 62.586s\n",
      "Epoch: 13, Train loss: 3.040,  Epoch time = 63.095s\n",
      "Epoch: 14, Train loss: 2.927,  Epoch time = 62.682s\n",
      "Epoch: 15, Train loss: 2.817,  Epoch time = 62.434s\n",
      "Epoch: 16, Train loss: 2.702,  Epoch time = 62.440s\n",
      "Epoch: 17, Train loss: 2.597,  Epoch time = 62.346s\n",
      "Epoch: 18, Train loss: 2.489,  Epoch time = 62.763s\n"
     ]
    }
   ],
   "source": [
    "from timeit import default_timer as timer\n",
    "NUM_EPOCHS = 18\n",
    "\n",
    "for epoch in range(1, NUM_EPOCHS+1):\n",
    "    start_time = timer()\n",
    "    train_loss = train_epoch(transformer, optimizer)\n",
    "    end_time = timer()\n",
    "    print((f\"Epoch: {epoch}, Train loss: {train_loss:.3f},  \"f\"Epoch time = {(end_time - start_time):.3f}s\"))"
   ]
  }
 ],
 "metadata": {
  "accelerator": "GPU",
  "colab": {
   "name": "テーマ4_ja_en_translate.ipynb",
   "provenance": []
  },
  "gpuClass": "standard",
  "kernelspec": {
   "display_name": "Python 3 (ipykernel)",
   "language": "python",
   "name": "python3"
  },
  "language_info": {
   "codemirror_mode": {
    "name": "ipython",
    "version": 3
   },
   "file_extension": ".py",
   "mimetype": "text/x-python",
   "name": "python",
   "nbconvert_exporter": "python",
   "pygments_lexer": "ipython3",
   "version": "3.9.13"
  }
 },
 "nbformat": 4,
 "nbformat_minor": 1
}
