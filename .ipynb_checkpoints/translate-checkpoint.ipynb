{
 "cells": [
  {
   "cell_type": "code",
   "execution_count": 1,
   "id": "37a7344f",
   "metadata": {},
   "outputs": [],
   "source": [
    "import os\n",
    "import sys\n",
    "import re\n",
    "import tarfile\n",
    "import time\n",
    "import math\n",
    "import numpy as np\n",
    "import pandas as pd\n",
    "import matplotlib.pyplot as plt\n",
    "from sklearn.model_selection import train_test_split\n",
    "from typing import Optional"
   ]
  },
  {
   "cell_type": "code",
   "execution_count": 5,
   "id": "229c5e35",
   "metadata": {},
   "outputs": [],
   "source": [
    "import torch\n",
    "from torch.utils.data import TensorDataset\n",
    "from torch.utils.data import DataLoader\n",
    "import torch.nn as nn\n",
    "from torch.nn import Embedding, TransformerDecoderLayer, TransformerDecoder, TransformerEncoderLayer, TransformerEncoder\n",
    "import torch.nn.functional as F\n",
    "import torch.optim as optim\n",
    "from torch.autograd import Variable\n",
    "# from torchtext.data import Field, BucketIterator, TabularDataset\n",
    "from torch.nn.init import xavier_uniform_"
   ]
  },
  {
   "cell_type": "code",
   "execution_count": 16,
   "id": "b10c968d",
   "metadata": {},
   "outputs": [],
   "source": [
    "device = \"cuda\" if torch.cuda.is_available() else \"cpu\""
   ]
  },
  {
   "cell_type": "code",
   "execution_count": 63,
   "id": "92dc94e2",
   "metadata": {},
   "outputs": [],
   "source": [
    "path = './data/raw.tar.gz'\n",
    "savedir = './data/'\n",
    "with tarfile.open(path, 'r:*') as tar:\n",
    "        tar.extractall(savedir)\n",
    "\n",
    "filename = 'raw'\n",
    "with open(os.path.join(savedir + 'raw/', filename), 'r') as f:\n",
    "    raw_data = f.readlines()\n",
    "\n",
    "raw_list = [re.sub('\\n', '', s).split('\\t') for s in raw_data]\n",
    "raw_df = pd.DataFrame(raw_list,\n",
    "                  columns=['英語', '日本語'])\n",
    "raw_df = raw_df.iloc[:10000]"
   ]
  },
  {
   "cell_type": "code",
   "execution_count": 64,
   "id": "d3b111ec",
   "metadata": {},
   "outputs": [
    {
     "data": {
      "text/html": [
       "<div>\n",
       "<style scoped>\n",
       "    .dataframe tbody tr th:only-of-type {\n",
       "        vertical-align: middle;\n",
       "    }\n",
       "\n",
       "    .dataframe tbody tr th {\n",
       "        vertical-align: top;\n",
       "    }\n",
       "\n",
       "    .dataframe thead th {\n",
       "        text-align: right;\n",
       "    }\n",
       "</style>\n",
       "<table border=\"1\" class=\"dataframe\">\n",
       "  <thead>\n",
       "    <tr style=\"text-align: right;\">\n",
       "      <th></th>\n",
       "      <th>英語</th>\n",
       "      <th>日本語</th>\n",
       "    </tr>\n",
       "  </thead>\n",
       "  <tbody>\n",
       "    <tr>\n",
       "      <th>0</th>\n",
       "      <td>you are back, aren't you, harold?</td>\n",
       "      <td>あなたは戻ったのね ハロルド?</td>\n",
       "    </tr>\n",
       "    <tr>\n",
       "      <th>1</th>\n",
       "      <td>my opponent is shark.</td>\n",
       "      <td>俺の相手は シャークだ。</td>\n",
       "    </tr>\n",
       "    <tr>\n",
       "      <th>2</th>\n",
       "      <td>this is one thing in exchange for another.</td>\n",
       "      <td>引き換えだ ある事とある物の</td>\n",
       "    </tr>\n",
       "    <tr>\n",
       "      <th>3</th>\n",
       "      <td>yeah, i'm fine.</td>\n",
       "      <td>もういいよ ごちそうさま ううん</td>\n",
       "    </tr>\n",
       "    <tr>\n",
       "      <th>4</th>\n",
       "      <td>don't come to the office anymore. don't call m...</td>\n",
       "      <td>もう会社には来ないでくれ 電話もするな</td>\n",
       "    </tr>\n",
       "    <tr>\n",
       "      <th>...</th>\n",
       "      <td>...</td>\n",
       "      <td>...</td>\n",
       "    </tr>\n",
       "    <tr>\n",
       "      <th>9995</th>\n",
       "      <td>so, i'm going to start asking those questions</td>\n",
       "      <td>次にお話しするdna構造で この問題に 取り組んでみたいと思います</td>\n",
       "    </tr>\n",
       "    <tr>\n",
       "      <th>9996</th>\n",
       "      <td>ak: it's about a boy who falls in love with a ...</td>\n",
       "      <td>少年とその愛馬の物語です</td>\n",
       "    </tr>\n",
       "    <tr>\n",
       "      <th>9997</th>\n",
       "      <td>got to take the perks where i can get 'em.</td>\n",
       "      <td>特権は利用しないと</td>\n",
       "    </tr>\n",
       "    <tr>\n",
       "      <th>9998</th>\n",
       "      <td>i do not fall.</td>\n",
       "      <td>大事な仲間に そんなことはできない。</td>\n",
       "    </tr>\n",
       "    <tr>\n",
       "      <th>9999</th>\n",
       "      <td>we knew that it was just one long dream.</td>\n",
       "      <td>あたしたちは長い夢を見てるんだって</td>\n",
       "    </tr>\n",
       "  </tbody>\n",
       "</table>\n",
       "<p>10000 rows × 2 columns</p>\n",
       "</div>"
      ],
      "text/plain": [
       "                                                     英語  \\\n",
       "0                     you are back, aren't you, harold?   \n",
       "1                                 my opponent is shark.   \n",
       "2            this is one thing in exchange for another.   \n",
       "3                                       yeah, i'm fine.   \n",
       "4     don't come to the office anymore. don't call m...   \n",
       "...                                                 ...   \n",
       "9995      so, i'm going to start asking those questions   \n",
       "9996  ak: it's about a boy who falls in love with a ...   \n",
       "9997         got to take the perks where i can get 'em.   \n",
       "9998                                     i do not fall.   \n",
       "9999           we knew that it was just one long dream.   \n",
       "\n",
       "                                    日本語  \n",
       "0                       あなたは戻ったのね ハロルド?  \n",
       "1                          俺の相手は シャークだ。  \n",
       "2                        引き換えだ ある事とある物の  \n",
       "3                      もういいよ ごちそうさま ううん  \n",
       "4                   もう会社には来ないでくれ 電話もするな  \n",
       "...                                 ...  \n",
       "9995  次にお話しするdna構造で この問題に 取り組んでみたいと思います  \n",
       "9996                       少年とその愛馬の物語です  \n",
       "9997                          特権は利用しないと  \n",
       "9998                 大事な仲間に そんなことはできない。  \n",
       "9999                  あたしたちは長い夢を見てるんだって  \n",
       "\n",
       "[10000 rows x 2 columns]"
      ]
     },
     "execution_count": 64,
     "metadata": {},
     "output_type": "execute_result"
    }
   ],
   "source": [
    "raw_df"
   ]
  },
  {
   "cell_type": "code",
   "execution_count": 65,
   "id": "4045a794",
   "metadata": {},
   "outputs": [],
   "source": [
    "import en_core_web_sm\n",
    "import ja_core_news_sm\n",
    "nlp_ja = ja_core_news_sm.load()\n",
    "nlp_en = en_core_web_sm.load()\n",
    "def tokenizer_ja(sentence):\n",
    "    return [tok.text for tok in nlp_ja.tokenizer(sentence)]\n",
    "def tokenizer_en(sentence):\n",
    "    return [tok.text for tok in nlp_en.tokenizer(sentence)]"
   ]
  },
  {
   "cell_type": "code",
   "execution_count": 66,
   "id": "5f6483e5",
   "metadata": {},
   "outputs": [],
   "source": [
    "from torchtext.data.utils import get_tokenizer\n",
    "from torchtext.vocab import build_vocab_from_iterator\n",
    "from torchtext.datasets import multi30k, Multi30k\n",
    "from typing import Iterable, List\n",
    "\n",
    "\n",
    "# We need to modify the URLs for the dataset since the links to the original dataset are broken\n",
    "# Refer to https://github.com/pytorch/text/issues/1756#issuecomment-1163664163 for more info\n",
    "# multi30k.URL[\"train\"] = \"https://raw.githubusercontent.com/neychev/small_DL_repo/master/datasets/Multi30k/training.tar.gz\"\n",
    "# multi30k.URL[\"valid\"] = \"https://raw.githubusercontent.com/neychev/small_DL_repo/master/datasets/Multi30k/validation.tar.gz\"\n",
    "\n",
    "TGT_LANGUAGE = '英語'\n",
    "SRC_LANGUAGE = '日本語'"
   ]
  },
  {
   "cell_type": "code",
   "execution_count": 70,
   "id": "48cc4d2a",
   "metadata": {},
   "outputs": [],
   "source": [
    "# Place-holders\n",
    "token_transform = {}\n",
    "vocab_transform = {}\n",
    "\n",
    "\n",
    "# Create source and target language tokenizer. Make sure to install the dependencies.\n",
    "# pip install -U torchdata\n",
    "# pip install -U spacy\n",
    "# python -m spacy download en_core_web_sm\n",
    "# python -m spacy download de_core_news_sm\n",
    "token_transform[SRC_LANGUAGE] = get_tokenizer('spacy', language='ja_core_news_sm')\n",
    "token_transform[TGT_LANGUAGE] = get_tokenizer('spacy', language='en_core_web_sm')\n",
    "\n",
    "\n",
    "# # helper function to yield list of tokens\n",
    "def yield_tokens(data_iter: Iterable, language: str) -> List[str]:\n",
    "    for data_sample in data_iter[language]:\n",
    "        yield token_transform[language](data_sample)\n",
    "\n",
    "# # Define special symbols and indices\n",
    "UNK_IDX, PAD_IDX, BOS_IDX, EOS_IDX = 0, 1, 2, 3\n",
    "# # Make sure the tokens are in order of their indices to properly insert them in vocab\n",
    "special_symbols = ['<unk>', '<pad>', '<bos>', '<eos>']\n",
    "\n",
    "for ln in [SRC_LANGUAGE, TGT_LANGUAGE]:\n",
    "    # Training data Iterator\n",
    "    # Create torchtext's Vocab object\n",
    "    vocab_transform[ln] = build_vocab_from_iterator(yield_tokens(raw_df, ln),\n",
    "                                                    min_freq=1,\n",
    "                                                    specials=special_symbols,\n",
    "                                                    special_first=True)\n",
    "\n",
    "# # Set UNK_IDX as the default index. This index is returned when the token is not found.\n",
    "# # If not set, it throws RuntimeError when the queried token is not found in the Vocabulary.\n",
    "for ln in [SRC_LANGUAGE, TGT_LANGUAGE]:\n",
    "    vocab_transform[ln].set_default_index(UNK_IDX)"
   ]
  },
  {
   "cell_type": "code",
   "execution_count": 77,
   "id": "8f8e3358",
   "metadata": {},
   "outputs": [
    {
     "data": {
      "text/plain": [
       "[32, 1480, 16, 1537, 4]"
      ]
     },
     "execution_count": 77,
     "metadata": {},
     "output_type": "execute_result"
    }
   ],
   "source": [
    "vocab_transform[TGT_LANGUAGE](list(yield_tokens(raw_df, TGT_LANGUAGE))[1])"
   ]
  },
  {
   "cell_type": "code",
   "execution_count": 79,
   "id": "a8d9fa06",
   "metadata": {},
   "outputs": [
    {
     "data": {
      "text/plain": [
       "['this', 'is', 'one', 'thing', 'in', 'exchange', 'for', 'another', '.']"
      ]
     },
     "execution_count": 79,
     "metadata": {},
     "output_type": "execute_result"
    }
   ],
   "source": [
    "list(yield_tokens(raw_df, TGT_LANGUAGE))[2]"
   ]
  },
  {
   "cell_type": "code",
   "execution_count": 80,
   "id": "b23be685",
   "metadata": {},
   "outputs": [
    {
     "data": {
      "text/plain": [
       "['引き換え', 'だ', 'ある', '事', 'と', 'ある', '物', 'の']"
      ]
     },
     "execution_count": 80,
     "metadata": {},
     "output_type": "execute_result"
    }
   ],
   "source": [
    "list(yield_tokens(raw_df, SRC_LANGUAGE))[2]"
   ]
  },
  {
   "cell_type": "code",
   "execution_count": 84,
   "id": "23488097",
   "metadata": {},
   "outputs": [],
   "source": [
    "torch.manual_seed(0)\n",
    "\n",
    "SRC_VOCAB_SIZE = len(vocab_transform[SRC_LANGUAGE])\n",
    "TGT_VOCAB_SIZE = len(vocab_transform[TGT_LANGUAGE])\n",
    "EMB_SIZE = 512\n",
    "NHEAD = 8\n",
    "FFN_HID_DIM = 512\n",
    "BATCH_SIZE = 128\n",
    "NUM_ENCODER_LAYERS = 3\n",
    "NUM_DECODER_LAYERS = 3"
   ]
  },
  {
   "cell_type": "code",
   "execution_count": 81,
   "id": "04d80a8c",
   "metadata": {},
   "outputs": [],
   "source": [
    "from torch.nn.utils.rnn import pad_sequence\n",
    "\n",
    "# helper function to club together sequential operations\n",
    "def sequential_transforms(*transforms):\n",
    "    def func(txt_input):\n",
    "        for transform in transforms:\n",
    "            txt_input = transform(txt_input)\n",
    "        return txt_input\n",
    "    return func\n",
    "\n",
    "# function to add BOS/EOS and create tensor for input sequence indices\n",
    "def tensor_transform(token_ids: List[int]):\n",
    "    return torch.cat((torch.tensor([BOS_IDX]),\n",
    "                      torch.tensor(token_ids),\n",
    "                      torch.tensor([EOS_IDX])))\n",
    "\n",
    "# src and tgt language text transforms to convert raw strings into tensors indices\n",
    "text_transform = {}\n",
    "for ln in [SRC_LANGUAGE, TGT_LANGUAGE]:\n",
    "    text_transform[ln] = sequential_transforms(token_transform[ln], #Tokenization\n",
    "                                               vocab_transform[ln], #Numericalization\n",
    "                                               tensor_transform) # Add BOS/EOS and create tensor"
   ]
  },
  {
   "cell_type": "code",
   "execution_count": 103,
   "id": "a95b1ee6",
   "metadata": {},
   "outputs": [
    {
     "data": {
      "text/plain": [
       "tensor([   2,   55,    6,  290,    8,    4,   35, 1659,   12,    3])"
      ]
     },
     "execution_count": 103,
     "metadata": {},
     "output_type": "execute_result"
    }
   ],
   "source": [
    "text_transform[SRC_LANGUAGE](raw_df[SRC_LANGUAGE].tolist()[0])"
   ]
  },
  {
   "cell_type": "code",
   "execution_count": 83,
   "id": "de8239f3",
   "metadata": {},
   "outputs": [],
   "source": [
    "def collate_fn(batch):\n",
    "    src_batch, tgt_batch = [], []\n",
    "    for src_sample, tgt_sample in batch:\n",
    "        src_batch.append(text_transform[SRC_LANGUAGE](src_sample.rstrip(\"\\n\")))\n",
    "        tgt_batch.append(text_transform[TGT_LANGUAGE](tgt_sample.rstrip(\"\\n\")))\n",
    "\n",
    "    src_batch = pad_sequence(src_batch, padding_value=PAD_IDX)\n",
    "    tgt_batch = pad_sequence(tgt_batch, padding_value=PAD_IDX)\n",
    "    return src_batch, tgt_batch"
   ]
  },
  {
   "cell_type": "code",
   "execution_count": 85,
   "id": "fbdf6bb7",
   "metadata": {},
   "outputs": [],
   "source": [
    "from torch.utils.data import DataLoader"
   ]
  },
  {
   "cell_type": "code",
   "execution_count": 82,
   "id": "b523ed4f",
   "metadata": {},
   "outputs": [
    {
     "data": {
      "text/plain": [
       "<function __main__.sequential_transforms.<locals>.func(txt_input)>"
      ]
     },
     "execution_count": 82,
     "metadata": {},
     "output_type": "execute_result"
    }
   ],
   "source": [
    "text_transform[TGT_LANGUAGE]"
   ]
  }
 ],
 "metadata": {
  "kernelspec": {
   "display_name": "Python 3 (ipykernel)",
   "language": "python",
   "name": "python3"
  },
  "language_info": {
   "codemirror_mode": {
    "name": "ipython",
    "version": 3
   },
   "file_extension": ".py",
   "mimetype": "text/x-python",
   "name": "python",
   "nbconvert_exporter": "python",
   "pygments_lexer": "ipython3",
   "version": "3.9.13"
  }
 },
 "nbformat": 4,
 "nbformat_minor": 5
}
